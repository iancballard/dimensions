{
 "cells": [
  {
   "cell_type": "code",
   "execution_count": 46,
   "metadata": {},
   "outputs": [],
   "source": [
    "from LOTlib.DataAndObjects import FunctionData, Obj\n",
    "from LOTlib.DefaultGrammars import DNF\n",
    "from LOTlib.Miscellaneous import q\n",
    "from LOTlib.Hypotheses.LOTHypothesis import LOTHypothesis\n",
    "from LOTlib.Hypotheses.Priors.RationalRules import RationaRulesPrior\n",
    "from LOTlib.Hypotheses.Likelihoods.BinaryLikelihood import BinaryLikelihood\n",
    "from LOTlib.Inference.Samplers.StandardSample import standard_sample\n",
    "from LOTlib.Inference.Samplers.MetropolisHastings import MHSampler\n",
    "from LOTlib.TopN import TopN\n",
    "from LOTlib.Miscellaneous import logsumexp \n",
    "from numpy import exp # but things that are handy in numpy are not duplicated (usually)\n",
    "import numpy as np\n",
    "from ipyparallel import Client\n",
    "import pandas as pd\n",
    "import os.path as op\n",
    "import glob\n",
    "import matplotlib.pyplot as plt\n",
    "import seaborn as sns\n",
    "%matplotlib inline"
   ]
  },
  {
   "cell_type": "code",
   "execution_count": 14,
   "metadata": {},
   "outputs": [],
   "source": [
    "rc = Client()"
   ]
  },
  {
   "cell_type": "markdown",
   "metadata": {},
   "source": [
    "# Get the data into a nice format"
   ]
  },
  {
   "cell_type": "code",
   "execution_count": 32,
   "metadata": {},
   "outputs": [],
   "source": [
    "data = pd.read_csv('./AllData.csv')\n",
    "\n",
    "#make features explicit\n",
    "features = [\"green\",'yellow','red','square','circle','triangle','grid','dot','wave']\n",
    "feature_map = {x:f for x,f in enumerate(features)}\n",
    "\n",
    "stims = ['stim11','stim12','stim13','stim21','stim22','stim23','stim31','stim32','stim33']\n",
    "for s in stims:\n",
    "    data[s] = [feature_map[int(x)-1] for x in data[s]]\n",
    "\n",
    "\n",
    "#clean data    \n",
    "clean_data = data[['subj','trial','gameNumber','choice','outcome']]\n",
    "for i in map(str,range(1,4)):\n",
    "    clean_data.loc[:,'stim' + i] = ['_'.join([x,y,z]) for x,y,z in zip(data['stim' + i + '1'],\n",
    "                                                      data['stim' + i + '2'],\n",
    "                                                      data['stim' + i + '3'])]\n",
    "\n",
    "#make chosen stim explicit\n",
    "clean_data = clean_data.dropna()\n",
    "for index, row in clean_data.iterrows():\n",
    "    clean_data.loc[index,'chosen_stim'] = row['stim' + str(int(row['choice']))]\n",
    "\n",
    "data = clean_data"
   ]
  },
  {
   "cell_type": "code",
   "execution_count": 33,
   "metadata": {
    "collapsed": true
   },
   "outputs": [],
   "source": [
    "data = data.set_index(['subj','gameNumber'])"
   ]
  },
  {
   "cell_type": "code",
   "execution_count": 34,
   "metadata": {
    "collapsed": true
   },
   "outputs": [],
   "source": [
    "for x in list(set(data.index)):\n",
    "    ntrials = data.loc[x].shape[0]\n",
    "    data.loc[x,'trial'] = range(ntrials)"
   ]
  },
  {
   "cell_type": "code",
   "execution_count": 35,
   "metadata": {
    "collapsed": true
   },
   "outputs": [],
   "source": [
    "#function to map from dataframes to objects required by LOTlib\n",
    "def make_function(stim, outcome, alpha = .999):\n",
    "    features = stim.split('_')\n",
    "    func = FunctionData(input=[Obj(color = features[0],\n",
    "                            shape = features[1],\n",
    "                            pattern = features[2])], output = outcome, alpha=alpha)\n",
    "    return func"
   ]
  },
  {
   "cell_type": "markdown",
   "metadata": {},
   "source": [
    "# Define Grammar"
   ]
  },
  {
   "cell_type": "code",
   "execution_count": 5,
   "metadata": {},
   "outputs": [
    {
     "data": {
      "text/plain": [
       "PATTERN -> 'wave'\tw/ p=1.0"
      ]
     },
     "execution_count": 5,
     "metadata": {},
     "output_type": "execute_result"
    }
   ],
   "source": [
    "#only run this once!\n",
    "# DNF defaultly includes the logical connectives so we need to add predicates to it.\n",
    "grammar = DNF\n",
    "\n",
    "# Two predicates for checking x's color and shape\n",
    "# Note: per style, functions in the LOT end in _\n",
    "grammar.add_rule('PREDICATE', 'is_color_', ['x', 'COLOR'], 1.0)\n",
    "grammar.add_rule('PREDICATE', 'is_shape_', ['x', 'SHAPE'], 1.0)\n",
    "grammar.add_rule('PREDICATE', 'is_pattern_', ['x', 'PATTERN'], 1.0)\n",
    "\n",
    "# These are written in quotes so they can be evaled\n",
    "grammar.add_rule('COLOR', q('red'), None, 1.0)\n",
    "grammar.add_rule('COLOR', q('yellow'), None, 1.0)\n",
    "grammar.add_rule('COLOR', q('green'), None, 1.0)\n",
    "\n",
    "grammar.add_rule('SHAPE', q('square'), None, 1.0)\n",
    "grammar.add_rule('SHAPE', q('circle'), None, 1.0)\n",
    "grammar.add_rule('SHAPE', q('triangle'), None, 1.0)\n",
    "\n",
    "\n",
    "grammar.add_rule('PATTERN', q('grid'), None, 1.0)\n",
    "grammar.add_rule('PATTERN', q('dot'), None, 1.0)\n",
    "grammar.add_rule('PATTERN', q('wave'), None, 1.0)\n"
   ]
  },
  {
   "cell_type": "markdown",
   "metadata": {},
   "source": [
    "# Apply Rational Rules to each subject's sequence of evidence and record the posterior predictive for all stimuli on each trial"
   ]
  },
  {
   "cell_type": "code",
   "execution_count": 6,
   "metadata": {
    "collapsed": true
   },
   "outputs": [],
   "source": [
    "def get_data(sub,run):\n",
    "    \n",
    "    block_data = []\n",
    "    option_data = []\n",
    "    alpha = .75\n",
    "    for x in data.loc[(sub,run)].iterrows():\n",
    "        #chosen stimulus used for inference\n",
    "        choice = x[1]['chosen_stim']\n",
    "        outcome = bool(x[1]['outcome'])\n",
    "        block_data.append(make_function(choice, outcome, alpha))\n",
    "\n",
    "        #all stimuli used for evaluation\n",
    "        choice1 = x[1]['stim1']\n",
    "        choice2 = x[1]['stim2']\n",
    "        choice3 = x[1]['stim3']\n",
    "        option_data.append([make_function(choice1, False, alpha),\n",
    "                           make_function(choice2, False, alpha),\n",
    "                           make_function(choice3, False, alpha)])\n",
    "        \n",
    "    return block_data, option_data"
   ]
  },
  {
   "cell_type": "code",
   "execution_count": 7,
   "metadata": {
    "collapsed": true
   },
   "outputs": [],
   "source": [
    "def run_inference(grammar, block_data):\n",
    "    # run inference on various amounts of data\n",
    "    initial_hyp = LOTHypothesis(grammar, start='START', ALPHA=.99, maxnodes=20)\n",
    "\n",
    "    samples = 10000\n",
    "    TOP = 100\n",
    "    H = TopN()  # Across everything\n",
    "\n",
    "    for i in xrange(len(block_data)): \n",
    "        hyps = TopN(N=TOP)\n",
    "        for h in MHSampler(initial_hyp, block_data[:i], samples, skip=0):\n",
    "            if h.posterior_score > -float(\"inf\"):  # Otherwise KL gets messed up!\n",
    "                hyps.add(h, h.posterior_score)\n",
    "\n",
    "        # save these to our finite list\n",
    "        H.update(hyps)\n",
    "        \n",
    "    return H"
   ]
  },
  {
   "cell_type": "code",
   "execution_count": 8,
   "metadata": {
    "collapsed": true
   },
   "outputs": [],
   "source": [
    "def compute_predictive(H, block_data, option_data):\n",
    "    hypotheses = [h for h in H.get_all()]  # make a list, fixed order\n",
    "\n",
    "\n",
    "    trial_posterior_predictive = []\n",
    "    for i in xrange(len(option_data)):\n",
    "        posteriors, predictive = [], []\n",
    "        for h in hypotheses:\n",
    "            posteriors.append(h.compute_posterior(block_data[:i])) #compute from chosen stimuli\n",
    "\n",
    "            #store each rules' prediction\n",
    "            option_predictives = []\n",
    "            for option in option_data[i]:\n",
    "                option_predictives.append(h(*option.input))\n",
    "            predictive.append(option_predictives)\n",
    "\n",
    "        #normalize posteriors    \n",
    "        Z = logsumexp(posteriors)\n",
    "        posteriors = np.array(posteriors) - Z  # normalize posterior\n",
    "        posteriors = np.exp(posteriors)\n",
    "\n",
    "        #compute posterior predictive\n",
    "        predictive = np.array(predictive)\n",
    "        predictive = [np.sum(posteriors*x) for x in predictive.T]\n",
    "        trial_posterior_predictive.append(predictive)\n",
    "\n",
    "\n",
    "    return np.array(trial_posterior_predictive)"
   ]
  },
  {
   "cell_type": "code",
   "execution_count": 9,
   "metadata": {
    "collapsed": true
   },
   "outputs": [],
   "source": [
    "def run_analysis(in_tuple):\n",
    "    sub, run = in_tuple\n",
    "    \n",
    "    block_data, option_data = get_data(sub,run)\n",
    "    H = run_inference(grammar, block_data)\n",
    "    posterior_predictive = compute_predictive(H, block_data, option_data)\n",
    "    \n",
    "    #save data\n",
    "    posterior_predictive = pd.DataFrame(posterior_predictive, \n",
    "                 columns = ['pstim1','pstim2','pstim3'])\n",
    "    posterior_predictive['subj'] = sub\n",
    "    posterior_predictive['gameNumber'] = run\n",
    "    posterior_predictive.to_csv(op.abspath('./fits/'+ str(sub) + '_' + str(run) + '.csv'),index = False)"
   ]
  },
  {
   "cell_type": "code",
   "execution_count": 31,
   "metadata": {},
   "outputs": [],
   "source": [
    "# #fit models in paralell\n",
    "# dview = rc[:]\n",
    "# dview.block=True\n",
    "# dview.push(dict(get_data = get_data,\n",
    "#                 run_inference = run_inference,\n",
    "#                 run_analysis = run_analysis,\n",
    "#                 make_function = make_function,\n",
    "#                 compute_predictive = compute_predictive,\n",
    "#                 grammar = grammar,\n",
    "#                 data = data))\n",
    "# dview.execute(\"import numpy as np\")\n",
    "# dview.execute(\"import os.path as op\")\n",
    "# dview.execute(\"import pandas as pd\")\n",
    "# with dview.sync_imports():\n",
    "#     from LOTlib.DataAndObjects import FunctionData, Obj\n",
    "#     from LOTlib.DefaultGrammars import DNF\n",
    "#     from LOTlib.Miscellaneous import q\n",
    "#     from LOTlib.Hypotheses.LOTHypothesis import LOTHypothesis\n",
    "#     from LOTlib.Hypotheses.Priors.RationalRules import RationaRulesPrior\n",
    "#     from LOTlib.Hypotheses.Likelihoods.BinaryLikelihood import BinaryLikelihood\n",
    "#     from LOTlib.Inference.Samplers.StandardSample import standard_sample\n",
    "#     from LOTlib.Inference.Samplers.MetropolisHastings import MHSampler\n",
    "#     from LOTlib.TopN import TopN\n",
    "#     from LOTlib.Miscellaneous import logsumexp \n",
    "#     from numpy import exp\n",
    "\n",
    "# dview.map_sync(run_analysis,list(set(data.index)))"
   ]
  },
  {
   "cell_type": "markdown",
   "metadata": {},
   "source": [
    "# Now analyze the fits"
   ]
  },
  {
   "cell_type": "code",
   "execution_count": 37,
   "metadata": {},
   "outputs": [],
   "source": [
    "#load fits\n",
    "files = glob.glob(op.abspath('./fits/*csv'))\n",
    "\n",
    "fits = []\n",
    "for f in files:\n",
    "    fit = pd.read_csv(f)\n",
    "    fit['trial'] = range(fit.shape[0]) #add missing trial info\n",
    "    fits.append(fit.copy())\n",
    "fits = pd.concat(fits)\n",
    "    \n",
    "data = data.reset_index()\n",
    "#merge with main df\n",
    "data = pd.merge(data,\n",
    "         fits,\n",
    "         how='left',\n",
    "         on=['subj','gameNumber','trial'])"
   ]
  },
  {
   "cell_type": "code",
   "execution_count": null,
   "metadata": {},
   "outputs": [],
   "source": []
  },
  {
   "cell_type": "code",
   "execution_count": 42,
   "metadata": {
    "collapsed": true
   },
   "outputs": [],
   "source": [
    "#compute choice probability\n",
    "for n,row in data.iterrows():\n",
    "    #normalize\n",
    "    ps = np.array([row['pstim1'],row['pstim2'],row['pstim3']])\n",
    "    ps = ps/np.sum(ps)\n",
    "\n",
    "    choice = int(row['choice']-1)\n",
    "    \n",
    "    data.loc[n,'pchoice'] = ps[choice]\n"
   ]
  },
  {
   "cell_type": "code",
   "execution_count": 49,
   "metadata": {},
   "outputs": [
    {
     "data": {
      "image/png": "[encoded data removed]",
      "text/plain": [
       "<matplotlib.figure.Figure at 0x7fac0d4fda50>"
      ]
     },
     "metadata": {},
     "output_type": "display_data"
    }
   ],
   "source": [
    "#plot results\n",
    "sns.tsplot(time = 'trial', value = 'pchoice', unit = 'subj', \n",
    "           data = data.groupby(['subj','trial']).mean().reset_index())\n",
    "sns.despine()\n",
    "plt.ylabel('Average Likelihood')\n",
    "plt.xlabel('Trial')\n",
    "plt.savefig(op.abspath('./rational_rules_prediction.png'),dpi=300)"
   ]
  },
  {
   "cell_type": "code",
   "execution_count": 52,
   "metadata": {},
   "outputs": [
    {
     "data": {
      "text/plain": [
       "subj          13.012030\n",
       "gameNumber    12.502588\n",
       "trial         11.903555\n",
       "choice         1.946905\n",
       "outcome        0.530882\n",
       "pstim1         0.411624\n",
       "pstim2         0.399926\n",
       "pstim3         0.396350\n",
       "pchoice        0.514050\n",
       "dtype: float64"
      ]
     },
     "execution_count": 52,
     "metadata": {},
     "output_type": "execute_result"
    }
   ],
   "source": [
    "data.mean()"
   ]
  },
  {
   "cell_type": "code",
   "execution_count": null,
   "metadata": {
    "collapsed": true
   },
   "outputs": [],
   "source": []
  },
  {
   "cell_type": "code",
   "execution_count": null,
   "metadata": {
    "collapsed": true
   },
   "outputs": [],
   "source": []
  },
  {
   "cell_type": "code",
   "execution_count": null,
   "metadata": {
    "collapsed": true
   },
   "outputs": [],
   "source": []
  },
  {
   "cell_type": "code",
   "execution_count": null,
   "metadata": {
    "collapsed": true
   },
   "outputs": [],
   "source": []
  },
  {
   "cell_type": "code",
   "execution_count": null,
   "metadata": {
    "collapsed": true
   },
   "outputs": [],
   "source": []
  }
 ],
 "metadata": {
  "kernelspec": {
   "display_name": "Python 2",
   "language": "python",
   "name": "python2"
  },
  "language_info": {
   "codemirror_mode": {
    "name": "ipython",
    "version": 2
   },
   "file_extension": ".py",
   "mimetype": "text/x-python",
   "name": "python",
   "nbconvert_exporter": "python",
   "pygments_lexer": "ipython2",
   "version": "2.7.13"
  }
 },
 "nbformat": 4,
 "nbformat_minor": 2
}
